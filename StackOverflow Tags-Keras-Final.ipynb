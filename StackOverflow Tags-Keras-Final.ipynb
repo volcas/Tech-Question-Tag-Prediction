{
 "cells": [
  {
   "cell_type": "markdown",
   "metadata": {},
   "source": [
    "# Question Tag Prediction "
   ]
  },
  {
   "cell_type": "markdown",
   "metadata": {},
   "source": [
    "Using the data from [Stack Overflow questions](https://www.kaggle.com/stackoverflow/stacksample), i Have created a DL model that predicts the associated tag based on the question"
   ]
  },
  {
   "cell_type": "markdown",
   "metadata": {},
   "source": [
    "### Importing header files"
   ]
  },
  {
   "cell_type": "code",
   "execution_count": 1,
   "metadata": {},
   "outputs": [
    {
     "name": "stderr",
     "output_type": "stream",
     "text": [
      "Using TensorFlow backend.\n",
      "C:\\Users\\nnair\\miniconda3\\lib\\site-packages\\tensorflow\\python\\framework\\dtypes.py:526: FutureWarning: Passing (type, 1) or '1type' as a synonym of type is deprecated; in a future version of numpy, it will be understood as (type, (1,)) / '(1,)type'.\n",
      "  _np_qint8 = np.dtype([(\"qint8\", np.int8, 1)])\n",
      "C:\\Users\\nnair\\miniconda3\\lib\\site-packages\\tensorflow\\python\\framework\\dtypes.py:527: FutureWarning: Passing (type, 1) or '1type' as a synonym of type is deprecated; in a future version of numpy, it will be understood as (type, (1,)) / '(1,)type'.\n",
      "  _np_quint8 = np.dtype([(\"quint8\", np.uint8, 1)])\n",
      "C:\\Users\\nnair\\miniconda3\\lib\\site-packages\\tensorflow\\python\\framework\\dtypes.py:528: FutureWarning: Passing (type, 1) or '1type' as a synonym of type is deprecated; in a future version of numpy, it will be understood as (type, (1,)) / '(1,)type'.\n",
      "  _np_qint16 = np.dtype([(\"qint16\", np.int16, 1)])\n",
      "C:\\Users\\nnair\\miniconda3\\lib\\site-packages\\tensorflow\\python\\framework\\dtypes.py:529: FutureWarning: Passing (type, 1) or '1type' as a synonym of type is deprecated; in a future version of numpy, it will be understood as (type, (1,)) / '(1,)type'.\n",
      "  _np_quint16 = np.dtype([(\"quint16\", np.uint16, 1)])\n",
      "C:\\Users\\nnair\\miniconda3\\lib\\site-packages\\tensorflow\\python\\framework\\dtypes.py:530: FutureWarning: Passing (type, 1) or '1type' as a synonym of type is deprecated; in a future version of numpy, it will be understood as (type, (1,)) / '(1,)type'.\n",
      "  _np_qint32 = np.dtype([(\"qint32\", np.int32, 1)])\n",
      "C:\\Users\\nnair\\miniconda3\\lib\\site-packages\\tensorflow\\python\\framework\\dtypes.py:535: FutureWarning: Passing (type, 1) or '1type' as a synonym of type is deprecated; in a future version of numpy, it will be understood as (type, (1,)) / '(1,)type'.\n",
      "  np_resource = np.dtype([(\"resource\", np.ubyte, 1)])\n"
     ]
    }
   ],
   "source": [
    "import pandas as pd\n",
    "import re\n",
    "import numpy as np\n",
    "import matplotlib.pyplot as plt\n",
    "\n",
    "import nltk\n",
    "from nltk.tokenize import WordPunctTokenizer\n",
    "from nltk.probability import FreqDist\n",
    "\n",
    "\n",
    "from collections import Counter \n",
    "from gensim.models import Word2Vec \n",
    "from operator import itemgetter \n",
    "from heapq import nsmallest \n",
    "\n",
    "\n",
    "from sklearn.preprocessing import LabelEncoder\n",
    "\n",
    "from keras import backend as K \n",
    "from keras.preprocessing.sequence import pad_sequences\n",
    "from keras.layers import Dense, Input, LSTM, Embedding\n",
    "from keras.models import Sequential\n",
    "from keras.optimizers import Adam\n",
    "from keras.utils import to_categorical \n",
    "\n",
    "\n",
    "import warnings\n",
    "warnings.filterwarnings(\"ignore\")"
   ]
  },
  {
   "cell_type": "markdown",
   "metadata": {},
   "source": [
    "### Reading the file"
   ]
  },
  {
   "cell_type": "code",
   "execution_count": 2,
   "metadata": {},
   "outputs": [],
   "source": [
    "questions= pd.read_csv('data/Questions.csv', encoding='iso-8859-1')\n",
    "tags=pd.read_csv('data/Tags.csv', encoding='iso-8859-1')"
   ]
  },
  {
   "cell_type": "markdown",
   "metadata": {},
   "source": [
    "### Combining Tags(Based on Id)"
   ]
  },
  {
   "cell_type": "code",
   "execution_count": 3,
   "metadata": {},
   "outputs": [],
   "source": [
    "tags['Tag'] = tags['Tag'].astype(str)\n",
    "\n",
    "grouped_tags = tags.groupby(\"Id\")['Tag'].apply(lambda tags: ' '.join(tags))\n",
    "\n",
    "grouped_tags.reset_index()\n",
    "grouped_tags_final = pd.DataFrame({'Id':grouped_tags.index, 'Tags':grouped_tags.values})"
   ]
  },
  {
   "cell_type": "code",
   "execution_count": 4,
   "metadata": {},
   "outputs": [
    {
     "data": {
      "text/html": [
       "<div>\n",
       "<style scoped>\n",
       "    .dataframe tbody tr th:only-of-type {\n",
       "        vertical-align: middle;\n",
       "    }\n",
       "\n",
       "    .dataframe tbody tr th {\n",
       "        vertical-align: top;\n",
       "    }\n",
       "\n",
       "    .dataframe thead th {\n",
       "        text-align: right;\n",
       "    }\n",
       "</style>\n",
       "<table border=\"1\" class=\"dataframe\">\n",
       "  <thead>\n",
       "    <tr style=\"text-align: right;\">\n",
       "      <th></th>\n",
       "      <th>Id</th>\n",
       "      <th>Tags</th>\n",
       "    </tr>\n",
       "  </thead>\n",
       "  <tbody>\n",
       "    <tr>\n",
       "      <th>0</th>\n",
       "      <td>80</td>\n",
       "      <td>flex actionscript-3 air</td>\n",
       "    </tr>\n",
       "    <tr>\n",
       "      <th>1</th>\n",
       "      <td>90</td>\n",
       "      <td>svn tortoisesvn branch branching-and-merging</td>\n",
       "    </tr>\n",
       "    <tr>\n",
       "      <th>2</th>\n",
       "      <td>120</td>\n",
       "      <td>sql asp.net sitemap</td>\n",
       "    </tr>\n",
       "    <tr>\n",
       "      <th>3</th>\n",
       "      <td>180</td>\n",
       "      <td>algorithm language-agnostic colors color-space</td>\n",
       "    </tr>\n",
       "    <tr>\n",
       "      <th>4</th>\n",
       "      <td>260</td>\n",
       "      <td>c# .net scripting compiler-construction</td>\n",
       "    </tr>\n",
       "    <tr>\n",
       "      <th>...</th>\n",
       "      <td>...</td>\n",
       "      <td>...</td>\n",
       "    </tr>\n",
       "    <tr>\n",
       "      <th>1264211</th>\n",
       "      <td>40143210</td>\n",
       "      <td>php .htaccess</td>\n",
       "    </tr>\n",
       "    <tr>\n",
       "      <th>1264212</th>\n",
       "      <td>40143300</td>\n",
       "      <td>google-bigquery</td>\n",
       "    </tr>\n",
       "    <tr>\n",
       "      <th>1264213</th>\n",
       "      <td>40143340</td>\n",
       "      <td>android android-studio</td>\n",
       "    </tr>\n",
       "    <tr>\n",
       "      <th>1264214</th>\n",
       "      <td>40143360</td>\n",
       "      <td>javascript vue.js</td>\n",
       "    </tr>\n",
       "    <tr>\n",
       "      <th>1264215</th>\n",
       "      <td>40143380</td>\n",
       "      <td>npm mocha babel</td>\n",
       "    </tr>\n",
       "  </tbody>\n",
       "</table>\n",
       "<p>1264216 rows × 2 columns</p>\n",
       "</div>"
      ],
      "text/plain": [
       "               Id                                            Tags\n",
       "0              80                         flex actionscript-3 air\n",
       "1              90    svn tortoisesvn branch branching-and-merging\n",
       "2             120                             sql asp.net sitemap\n",
       "3             180  algorithm language-agnostic colors color-space\n",
       "4             260         c# .net scripting compiler-construction\n",
       "...           ...                                             ...\n",
       "1264211  40143210                                   php .htaccess\n",
       "1264212  40143300                                 google-bigquery\n",
       "1264213  40143340                          android android-studio\n",
       "1264214  40143360                               javascript vue.js\n",
       "1264215  40143380                                 npm mocha babel\n",
       "\n",
       "[1264216 rows x 2 columns]"
      ]
     },
     "execution_count": 4,
     "metadata": {},
     "output_type": "execute_result"
    }
   ],
   "source": [
    "grouped_tags_final"
   ]
  },
  {
   "cell_type": "markdown",
   "metadata": {},
   "source": [
    "----------------------------------------"
   ]
  },
  {
   "cell_type": "markdown",
   "metadata": {},
   "source": [
    "## CLEANING DATA"
   ]
  },
  {
   "cell_type": "markdown",
   "metadata": {},
   "source": [
    "### Dropping unnecessary columns and merging with tags"
   ]
  },
  {
   "cell_type": "code",
   "execution_count": 5,
   "metadata": {},
   "outputs": [],
   "source": [
    "questions.drop(columns=['OwnerUserId', 'CreationDate', 'ClosedDate'], inplace=True)\n",
    "questions = questions.merge(grouped_tags_final, on='Id')\n"
   ]
  },
  {
   "cell_type": "markdown",
   "metadata": {},
   "source": [
    "### Removing duplicates and filtering"
   ]
  },
  {
   "cell_type": "code",
   "execution_count": 6,
   "metadata": {},
   "outputs": [
    {
     "name": "stdout",
     "output_type": "stream",
     "text": [
      "Dupplicate entries: 0\n"
     ]
    }
   ],
   "source": [
    "new_df = questions[questions['Score']>5]\n",
    "\n",
    "print('Dupplicate entries: {}'.format(new_df.duplicated().sum()))\n",
    "new_df.drop_duplicates(inplace = True)"
   ]
  },
  {
   "cell_type": "markdown",
   "metadata": {},
   "source": [
    "### Selecting top 100 tags"
   ]
  },
  {
   "cell_type": "code",
   "execution_count": 7,
   "metadata": {},
   "outputs": [],
   "source": [
    "# Finding the top 100 tags\n",
    "\n",
    "new_df['Tags'] = new_df['Tags'].apply(lambda x: x.split())\n",
    "all_tags = [item for sublist in new_df['Tags'].values for item in sublist]\n",
    "my_set = set(all_tags)\n",
    "unique_tags = list(my_set)\n",
    "\n",
    "\n",
    "flat_list = [item for sublist in new_df['Tags'].values for item in sublist]\n",
    "\n",
    "keywords = nltk.FreqDist(flat_list)\n",
    "# keywords1 = nltk.FreqDist(keywords)\n",
    "frequencies_words = keywords.most_common(100)\n",
    "\n",
    "tags_features = [word[0] for word in frequencies_words]\n"
   ]
  },
  {
   "cell_type": "code",
   "execution_count": 8,
   "metadata": {},
   "outputs": [],
   "source": [
    "# Remove unwanted tags\n",
    "\n",
    "def most_common(tags):\n",
    "    tags_filtered = []\n",
    "    for i in range(0, len(tags)):\n",
    "        if tags[i] in tags_features:\n",
    "            tags_filtered.append(tags[i])\n",
    "    return tags_filtered\n",
    "\n",
    "# Drop the tag if the tag is not in top 100\n",
    "new_df['Tags'] = new_df['Tags'].apply(lambda x: most_common(x))\n",
    "\n",
    "# Replacing the non tag featured dataset with a none element\n",
    "new_df['Tags'] = new_df['Tags'].apply(lambda x: x if len(x)>0 else None)\n",
    "\n",
    "\n",
    "new_df.dropna(subset=['Tags'], inplace=True)"
   ]
  },
  {
   "cell_type": "code",
   "execution_count": 9,
   "metadata": {},
   "outputs": [
    {
     "data": {
      "text/html": [
       "<div>\n",
       "<style scoped>\n",
       "    .dataframe tbody tr th:only-of-type {\n",
       "        vertical-align: middle;\n",
       "    }\n",
       "\n",
       "    .dataframe tbody tr th {\n",
       "        vertical-align: top;\n",
       "    }\n",
       "\n",
       "    .dataframe thead th {\n",
       "        text-align: right;\n",
       "    }\n",
       "</style>\n",
       "<table border=\"1\" class=\"dataframe\">\n",
       "  <thead>\n",
       "    <tr style=\"text-align: right;\">\n",
       "      <th></th>\n",
       "      <th>Id</th>\n",
       "      <th>Score</th>\n",
       "      <th>Title</th>\n",
       "      <th>Body</th>\n",
       "      <th>Tags</th>\n",
       "    </tr>\n",
       "  </thead>\n",
       "  <tbody>\n",
       "    <tr>\n",
       "      <th>1</th>\n",
       "      <td>90</td>\n",
       "      <td>144</td>\n",
       "      <td>Good branching and merging tutorials for Torto...</td>\n",
       "      <td>&lt;p&gt;Are there any really good tutorials explain...</td>\n",
       "      <td>[svn]</td>\n",
       "    </tr>\n",
       "    <tr>\n",
       "      <th>2</th>\n",
       "      <td>120</td>\n",
       "      <td>21</td>\n",
       "      <td>ASP.NET Site Maps</td>\n",
       "      <td>&lt;p&gt;Has anyone got experience creating &lt;strong&gt;...</td>\n",
       "      <td>[sql, asp.net]</td>\n",
       "    </tr>\n",
       "    <tr>\n",
       "      <th>3</th>\n",
       "      <td>180</td>\n",
       "      <td>53</td>\n",
       "      <td>Function for creating color wheels</td>\n",
       "      <td>&lt;p&gt;This is something I've pseudo-solved many t...</td>\n",
       "      <td>[algorithm]</td>\n",
       "    </tr>\n",
       "    <tr>\n",
       "      <th>4</th>\n",
       "      <td>260</td>\n",
       "      <td>49</td>\n",
       "      <td>Adding scripting functionality to .NET applica...</td>\n",
       "      <td>&lt;p&gt;I have a little game written in C#. It uses...</td>\n",
       "      <td>[c#, .net]</td>\n",
       "    </tr>\n",
       "    <tr>\n",
       "      <th>5</th>\n",
       "      <td>330</td>\n",
       "      <td>29</td>\n",
       "      <td>Should I use nested classes in this case?</td>\n",
       "      <td>&lt;p&gt;I am working on a collection of classes use...</td>\n",
       "      <td>[c++, oop, class]</td>\n",
       "    </tr>\n",
       "    <tr>\n",
       "      <th>...</th>\n",
       "      <td>...</td>\n",
       "      <td>...</td>\n",
       "      <td>...</td>\n",
       "      <td>...</td>\n",
       "      <td>...</td>\n",
       "    </tr>\n",
       "    <tr>\n",
       "      <th>1262834</th>\n",
       "      <td>40110020</td>\n",
       "      <td>6</td>\n",
       "      <td>STL list very bad performance</td>\n",
       "      <td>&lt;p&gt;It's supposed that \"push_back\" and \"pop_fro...</td>\n",
       "      <td>[c++, list]</td>\n",
       "    </tr>\n",
       "    <tr>\n",
       "      <th>1262915</th>\n",
       "      <td>40111730</td>\n",
       "      <td>7</td>\n",
       "      <td>How to use a dict to subset a DataFrame?</td>\n",
       "      <td>&lt;p&gt;Say, I have given a DataFrame with most of ...</td>\n",
       "      <td>[python]</td>\n",
       "    </tr>\n",
       "    <tr>\n",
       "      <th>1263065</th>\n",
       "      <td>40115300</td>\n",
       "      <td>7</td>\n",
       "      <td>Is there a way to use itertools in python to c...</td>\n",
       "      <td>&lt;p&gt;Let's say I have the following code:&lt;/p&gt;\\n\\...</td>\n",
       "      <td>[python]</td>\n",
       "    </tr>\n",
       "    <tr>\n",
       "      <th>1263454</th>\n",
       "      <td>40125310</td>\n",
       "      <td>6</td>\n",
       "      <td>Why does my result data returned as void* gets...</td>\n",
       "      <td>&lt;p&gt;I am working in a project with a huge legac...</td>\n",
       "      <td>[c++]</td>\n",
       "    </tr>\n",
       "    <tr>\n",
       "      <th>1264205</th>\n",
       "      <td>40143070</td>\n",
       "      <td>6</td>\n",
       "      <td>What exactly makes a type system consistent?</td>\n",
       "      <td>&lt;p&gt;I've taken AndrÃ¡s KovÃ¡cs's &lt;a href=\"https...</td>\n",
       "      <td>[haskell]</td>\n",
       "    </tr>\n",
       "  </tbody>\n",
       "</table>\n",
       "<p>63167 rows × 5 columns</p>\n",
       "</div>"
      ],
      "text/plain": [
       "               Id  Score                                              Title  \\\n",
       "1              90    144  Good branching and merging tutorials for Torto...   \n",
       "2             120     21                                  ASP.NET Site Maps   \n",
       "3             180     53                 Function for creating color wheels   \n",
       "4             260     49  Adding scripting functionality to .NET applica...   \n",
       "5             330     29          Should I use nested classes in this case?   \n",
       "...           ...    ...                                                ...   \n",
       "1262834  40110020      6                      STL list very bad performance   \n",
       "1262915  40111730      7           How to use a dict to subset a DataFrame?   \n",
       "1263065  40115300      7  Is there a way to use itertools in python to c...   \n",
       "1263454  40125310      6  Why does my result data returned as void* gets...   \n",
       "1264205  40143070      6       What exactly makes a type system consistent?   \n",
       "\n",
       "                                                      Body               Tags  \n",
       "1        <p>Are there any really good tutorials explain...              [svn]  \n",
       "2        <p>Has anyone got experience creating <strong>...     [sql, asp.net]  \n",
       "3        <p>This is something I've pseudo-solved many t...        [algorithm]  \n",
       "4        <p>I have a little game written in C#. It uses...         [c#, .net]  \n",
       "5        <p>I am working on a collection of classes use...  [c++, oop, class]  \n",
       "...                                                    ...                ...  \n",
       "1262834  <p>It's supposed that \"push_back\" and \"pop_fro...        [c++, list]  \n",
       "1262915  <p>Say, I have given a DataFrame with most of ...           [python]  \n",
       "1263065  <p>Let's say I have the following code:</p>\\n\\...           [python]  \n",
       "1263454  <p>I am working in a project with a huge legac...              [c++]  \n",
       "1264205  <p>I've taken AndrÃ¡s KovÃ¡cs's <a href=\"https...          [haskell]  \n",
       "\n",
       "[63167 rows x 5 columns]"
      ]
     },
     "execution_count": 9,
     "metadata": {},
     "output_type": "execute_result"
    }
   ],
   "source": [
    "new_df"
   ]
  },
  {
   "cell_type": "markdown",
   "metadata": {},
   "source": [
    "##  Different cleaning functions"
   ]
  },
  {
   "cell_type": "markdown",
   "metadata": {},
   "source": [
    "1. Removing of html tags and contracted words"
   ]
  },
  {
   "cell_type": "code",
   "execution_count": 10,
   "metadata": {},
   "outputs": [],
   "source": [
    "def clean_text(text):\n",
    "    text = text.lower()\n",
    "    text = re.sub(r\"what's\", \"what is \", text)\n",
    "    text = re.sub(r\"\\'s\", \" \", text)\n",
    "    text = re.sub(r\"\\'ve\", \" have \", text)\n",
    "    text = re.sub(r\"can't\", \"can not \", text)\n",
    "    text = re.sub(r\"n't\", \" not \", text)\n",
    "    text = re.sub(r\"i'm\", \"i am \", text)\n",
    "    text = re.sub(r\"\\'re\", \" are \", text)\n",
    "    text = re.sub(r\"\\'d\", \" would \", text)\n",
    "    text = re.sub(r\"\\'ll\", \" will \", text)\n",
    "    text = re.sub(r\"\\'scuse\", \" excuse \", text)\n",
    "    text = re.sub(r\"\\'\\n\", \" \", text)\n",
    "    text = re.sub(r\"\\'\\xa0\", \" \", text)\n",
    "    text = re.sub('\\s+', ' ', text)\n",
    "    text = text.strip(' ')\n",
    "    return text"
   ]
  },
  {
   "cell_type": "markdown",
   "metadata": {},
   "source": [
    "2. Removing of punctuations"
   ]
  },
  {
   "cell_type": "code",
   "execution_count": 11,
   "metadata": {},
   "outputs": [],
   "source": [
    "token=nltk.ToktokTokenizer()\n",
    "\n",
    "punct = '!\"#$%&\\'()*+,./:;<=>?@[\\\\]^_`{|}~'\n",
    "\n",
    "def strip_list_noempty(mylist):\n",
    "    # To check if the object is of string type\n",
    "    newlist = (item.strip() if hasattr(item, 'strip') else item for item in mylist)\n",
    "    return [item for item in newlist if item != '']\n",
    "\n",
    "def clean_punct(text): \n",
    "    words=token.tokenize(text)\n",
    "    punctuation_filtered = []\n",
    "    # Same can be achieved using remove punctuation(stopwords)\n",
    "    regex = re.compile('[%s]' % re.escape(punct))\n",
    "    \n",
    "    #Never appears again?\n",
    "    remove_punctuation = str.maketrans(' ', ' ', punct)\n",
    "    \n",
    "    #Removes punctuation from words which are not features\n",
    "    for w in words:\n",
    "        if w in tags_features:\n",
    "            punctuation_filtered.append(w)\n",
    "\n",
    "        else:\n",
    "            punctuation_filtered.append(regex.sub('', w))\n",
    "    # Takes only string elements(as strip is a feature of string data type)        \n",
    "    filtered_list = strip_list_noempty(punctuation_filtered)\n",
    "        \n",
    "    return ' '.join(map(str, filtered_list))"
   ]
  },
  {
   "cell_type": "markdown",
   "metadata": {},
   "source": [
    "3. Removing stopwords"
   ]
  },
  {
   "cell_type": "code",
   "execution_count": 12,
   "metadata": {},
   "outputs": [],
   "source": [
    "\n",
    "lemma=nltk.WordNetLemmatizer()\n",
    "stop_words = set(nltk.corpus.stopwords.words(\"english\"))\n",
    "\n",
    "# Using a custom stop word dictionary\n",
    "new_stop_words = open('stop_words.txt','r').read().split(\",\")\n",
    "new_stop_words = [x.strip(' ') for x in stop_words]\n",
    "\n",
    "\n",
    "for x in range(len(new_stop_words)):\n",
    "    new_stop_words[x]=new_stop_words[x].replace('\"','')\n",
    "\n",
    "def lemitizeWords(text):\n",
    "    words=token.tokenize(text)\n",
    "    listLemma=[]\n",
    "    for w in words:\n",
    "        x=lemma.lemmatize(w, pos=\"v\")\n",
    "        listLemma.append(x)\n",
    "    return ' '.join(map(str, listLemma))\n",
    "\n",
    "def stopWordsRemove(text):\n",
    "    \n",
    "    stop_words = set(nltk.corpus.stopwords.words(\"english\"))\n",
    "    stop_words.update(new_stop_words)\n",
    "\n",
    "    words=token.tokenize(text)\n",
    "    \n",
    "    filtered = [w for w in words if not w in stop_words]\n",
    "    \n",
    "    return ' '.join(map(str, filtered))\n"
   ]
  },
  {
   "cell_type": "markdown",
   "metadata": {},
   "source": [
    "### Applying the different cleaning functions"
   ]
  },
  {
   "cell_type": "code",
   "execution_count": 14,
   "metadata": {},
   "outputs": [],
   "source": [
    "new_df['Title'] = new_df['Title'].apply(lambda x: str(x))\n",
    "new_df['Title'] = new_df['Title'].apply(lambda x: clean_text(x)) \n",
    "new_df['Title'] = new_df['Title'].apply(lambda x: clean_punct(x)) \n",
    "new_df['Title'] = new_df['Title'].apply(lambda x: lemitizeWords(x)) \n",
    "new_df['Title'] = new_df['Title'].apply(lambda x: stopWordsRemove(x)) "
   ]
  },
  {
   "cell_type": "code",
   "execution_count": 15,
   "metadata": {},
   "outputs": [
    {
     "name": "stdout",
     "output_type": "stream",
     "text": [
      "1       good branch merge tutorials tortoisesvn\n",
      "2                              asp.net site map\n",
      "3                   function create color wheel\n",
      "4    add script functionality .net applications\n",
      "5                           use nest class case\n",
      "Name: Title, dtype: object\n"
     ]
    }
   ],
   "source": [
    "print(new_df['Title'].head(5))"
   ]
  },
  {
   "cell_type": "code",
   "execution_count": 16,
   "metadata": {},
   "outputs": [
    {
     "data": {
      "text/plain": [
       "(63167,)"
      ]
     },
     "execution_count": 16,
     "metadata": {},
     "output_type": "execute_result"
    }
   ],
   "source": [
    "new_df['Title'].shape"
   ]
  },
  {
   "cell_type": "markdown",
   "metadata": {},
   "source": [
    "----------------------------------------"
   ]
  },
  {
   "cell_type": "markdown",
   "metadata": {},
   "source": [
    "## CHANGING THE DATASET FOR DEEP LEARNING"
   ]
  },
  {
   "cell_type": "markdown",
   "metadata": {},
   "source": [
    "### Creating the word vectors"
   ]
  },
  {
   "cell_type": "code",
   "execution_count": 47,
   "metadata": {},
   "outputs": [
    {
     "name": "stdout",
     "output_type": "stream",
     "text": [
      "Number of word vectors: 5123\n"
     ]
    }
   ],
   "source": [
    "tokenizer = WordPunctTokenizer()\n",
    "\n",
    "vocab = Counter()\n",
    "corpus=[]\n",
    "\n",
    "for j in range(len(new_df['Title'])):\n",
    "        temp= tokenizer.tokenize(new_df['Title'].iloc[j])\n",
    "        corpus.append(temp) \n",
    "        # To keep track of our vocabulary\n",
    "        vocab.update(temp)\n",
    "\n",
    "WV_model = Word2Vec(sentences=corpus, size = 100, window = 2) \n",
    "\n",
    "word_vectors = WV_model.wv\n",
    "\n",
    "print(\"Number of word vectors: {}\".format(len(word_vectors.vocab)))"
   ]
  },
  {
   "cell_type": "markdown",
   "metadata": {},
   "source": [
    "### Defining the word constants"
   ]
  },
  {
   "cell_type": "code",
   "execution_count": 18,
   "metadata": {},
   "outputs": [],
   "source": [
    "MAX_NB_WORDS = len(word_vectors.vocab)\n",
    "MAX_SEQUENCE_LENGTH = 200\n",
    "train_size=44000\n",
    "WV_DIM = 100\n",
    "nb_words = min(MAX_NB_WORDS, len(word_vectors.vocab)+1)"
   ]
  },
  {
   "cell_type": "markdown",
   "metadata": {},
   "source": [
    "### Creating word index"
   ]
  },
  {
   "cell_type": "code",
   "execution_count": 19,
   "metadata": {},
   "outputs": [],
   "source": [
    "# Creating word index based on their frequency\n",
    "word_index = {t[0]: i+1 for i,t in enumerate(vocab.most_common(MAX_NB_WORDS))}\n",
    "\n",
    "# Embeding the data\n",
    "\n",
    "full_sequences = [[word_index.get(t) for t in title]\n",
    "             for title in new_df['Title'].str.split()]\n",
    "\n",
    "fs_cleaned= [[0 if v is None else v for v in seq] for seq in full_sequences]\n",
    "\n",
    "sequences = fs_cleaned[:train_size]\n",
    "\n",
    "test_sequences = fs_cleaned[train_size:]\n",
    "\n",
    "\n",
    "data = pad_sequences(sequences, maxlen=MAX_SEQUENCE_LENGTH, \n",
    "                     padding=\"pre\", truncating=\"post\")"
   ]
  },
  {
   "cell_type": "markdown",
   "metadata": {},
   "source": [
    "### Padding the data"
   ]
  },
  {
   "cell_type": "code",
   "execution_count": 20,
   "metadata": {},
   "outputs": [
    {
     "name": "stdout",
     "output_type": "stream",
     "text": [
      "Shape of data tensor: (44000, 200)\n",
      "Shape of label tensor: (44000,)\n",
      "Shape of test_data tensor: (19167, 200)\n"
     ]
    }
   ],
   "source": [
    "y = new_df['Tags'][:train_size]\n",
    "y_single_train= pd.Series([item[0] for item in y])\n",
    "le= LabelEncoder()\n",
    "y_single= pd.Series([item[0] for item in new_df['Tags']])\n",
    "le.fit(y_single)\n",
    "y_bin = le.transform(y_single_train)\n",
    "\n",
    "print('Shape of data tensor:', data.shape)\n",
    "print('Shape of label tensor:', y_bin.shape)\n",
    "\n",
    "test_data = pad_sequences(test_sequences, maxlen=MAX_SEQUENCE_LENGTH, padding=\"pre\",\n",
    "                          truncating=\"post\")\n",
    "print('Shape of test_data tensor:', test_data.shape)"
   ]
  },
  {
   "cell_type": "markdown",
   "metadata": {},
   "source": [
    "### Creating the target classes"
   ]
  },
  {
   "cell_type": "code",
   "execution_count": 21,
   "metadata": {},
   "outputs": [],
   "source": [
    "y_test = new_df['Tags'][train_size:]\n",
    "y_single_test= pd.Series([item[0] for item in y_test])\n",
    "\n",
    "# Label Encoding\n",
    "y_test_bin = le.transform(y_single_test)\n"
   ]
  },
  {
   "cell_type": "markdown",
   "metadata": {},
   "source": [
    "### Creating the feature matrix"
   ]
  },
  {
   "cell_type": "code",
   "execution_count": 22,
   "metadata": {},
   "outputs": [],
   "source": [
    "# Initialize the matrix with random numbers\n",
    "wv_matrix = (np.random.rand(nb_words, WV_DIM) - 0.5) / 5.0\n",
    "\n",
    "for word, i in word_index.items():\n",
    "    if i >= MAX_NB_WORDS:\n",
    "        continue\n",
    "    try:\n",
    "        embedding_vector = word_vectors[word]\n",
    "        # words not found in embedding index will be all-zeros.\n",
    "        wv_matrix[i] = embedding_vector\n",
    "    except:\n",
    "        pass "
   ]
  },
  {
   "cell_type": "markdown",
   "metadata": {},
   "source": [
    "### Creating the sequential model"
   ]
  },
  {
   "cell_type": "code",
   "execution_count": 25,
   "metadata": {},
   "outputs": [
    {
     "name": "stdout",
     "output_type": "stream",
     "text": [
      "WARNING:tensorflow:From C:\\Users\\nnair\\miniconda3\\lib\\site-packages\\tensorflow\\python\\framework\\op_def_library.py:263: colocate_with (from tensorflow.python.framework.ops) is deprecated and will be removed in a future version.\n",
      "Instructions for updating:\n",
      "Colocations handled automatically by placer.\n",
      "WARNING:tensorflow:From C:\\Users\\nnair\\miniconda3\\lib\\site-packages\\keras\\backend\\tensorflow_backend.py:1242: calling reduce_sum_v1 (from tensorflow.python.ops.math_ops) with keep_dims is deprecated and will be removed in a future version.\n",
      "Instructions for updating:\n",
      "keep_dims is deprecated, use keepdims instead\n"
     ]
    }
   ],
   "source": [
    "model = Sequential()\n",
    "\n",
    "model.add(Embedding(nb_words,\n",
    "                     WV_DIM,\n",
    "                     mask_zero=False,\n",
    "                     weights=[wv_matrix],\n",
    "                     input_length=MAX_SEQUENCE_LENGTH))\n",
    "model.add(LSTM(32))\n",
    "\n",
    "\n",
    "model.add(Dense(100,init='uniform', activation='sigmoid'))              \n",
    "\n",
    "model.compile(loss='categorical_crossentropy',\n",
    "              optimizer=Adam(lr=0.001, clipnorm=.25, beta_1=0.7, beta_2=0.99))    "
   ]
  },
  {
   "cell_type": "markdown",
   "metadata": {},
   "source": [
    "### Converting the target class to fit the DL model"
   ]
  },
  {
   "cell_type": "code",
   "execution_count": 26,
   "metadata": {},
   "outputs": [],
   "source": [
    "y_binary = to_categorical(y_bin)"
   ]
  },
  {
   "cell_type": "markdown",
   "metadata": {},
   "source": [
    "----------------------------------------"
   ]
  },
  {
   "cell_type": "markdown",
   "metadata": {},
   "source": [
    "## RUNNING THE MODEL"
   ]
  },
  {
   "cell_type": "code",
   "execution_count": 27,
   "metadata": {},
   "outputs": [
    {
     "name": "stdout",
     "output_type": "stream",
     "text": [
      "WARNING:tensorflow:From C:\\Users\\nnair\\miniconda3\\lib\\site-packages\\tensorflow\\python\\ops\\math_ops.py:3066: to_int32 (from tensorflow.python.ops.math_ops) is deprecated and will be removed in a future version.\n",
      "Instructions for updating:\n",
      "Use tf.cast instead.\n",
      "Train on 39600 samples, validate on 4400 samples\n",
      "Epoch 1/20\n",
      "39600/39600 [==============================] - 65s 2ms/step - loss: 3.8313 - val_loss: 3.5549\n",
      "Epoch 2/20\n",
      "39600/39600 [==============================] - 65s 2ms/step - loss: 3.5338 - val_loss: 3.5395\n",
      "Epoch 3/20\n",
      "39600/39600 [==============================] - 61s 2ms/step - loss: 3.5144 - val_loss: 3.5173\n",
      "Epoch 4/20\n",
      "39600/39600 [==============================] - 62s 2ms/step - loss: 3.4339 - val_loss: 3.4277\n",
      "Epoch 5/20\n",
      "39600/39600 [==============================] - 63s 2ms/step - loss: 3.3136 - val_loss: 3.3015\n",
      "Epoch 6/20\n",
      "39600/39600 [==============================] - 63s 2ms/step - loss: 3.1477 - val_loss: 3.1666\n",
      "Epoch 7/20\n",
      "39600/39600 [==============================] - 63s 2ms/step - loss: 2.9994 - val_loss: 3.0511\n",
      "Epoch 8/20\n",
      "39600/39600 [==============================] - 66s 2ms/step - loss: 2.8322 - val_loss: 2.9301\n",
      "Epoch 9/20\n",
      "39600/39600 [==============================] - 62s 2ms/step - loss: 2.6728 - val_loss: 2.7873\n",
      "Epoch 10/20\n",
      "39600/39600 [==============================] - 62s 2ms/step - loss: 2.5764 - val_loss: 2.6952\n",
      "Epoch 11/20\n",
      "39600/39600 [==============================] - 64s 2ms/step - loss: 2.3951 - val_loss: 2.5835\n",
      "Epoch 12/20\n",
      "39600/39600 [==============================] - 63s 2ms/step - loss: 2.2591 - val_loss: 2.4935\n",
      "Epoch 13/20\n",
      "39600/39600 [==============================] - 63s 2ms/step - loss: 2.2100 - val_loss: 2.6904\n",
      "Epoch 14/20\n",
      "39600/39600 [==============================] - 65s 2ms/step - loss: 2.0488 - val_loss: 2.3163\n",
      "Epoch 15/20\n",
      "39600/39600 [==============================] - 67s 2ms/step - loss: 1.9120 - val_loss: 2.2379\n",
      "Epoch 16/20\n",
      "39600/39600 [==============================] - 63s 2ms/step - loss: 1.8091 - val_loss: 2.2014\n",
      "Epoch 17/20\n",
      "39600/39600 [==============================] - 65s 2ms/step - loss: 1.7256 - val_loss: 2.1417\n",
      "Epoch 18/20\n",
      "39600/39600 [==============================] - 69s 2ms/step - loss: 1.6571 - val_loss: 2.1245\n",
      "Epoch 19/20\n",
      "39600/39600 [==============================] - 68s 2ms/step - loss: 1.5976 - val_loss: 2.0898\n",
      "Epoch 20/20\n",
      "39600/39600 [==============================] - 65s 2ms/step - loss: 1.5785 - val_loss: 2.0723\n"
     ]
    }
   ],
   "source": [
    "hist=model.fit([data], y_binary, validation_split=0.1,\n",
    "                 epochs=20, batch_size=256, shuffle=True)"
   ]
  },
  {
   "cell_type": "markdown",
   "metadata": {},
   "source": [
    "### Plotting the loss function"
   ]
  },
  {
   "cell_type": "code",
   "execution_count": 29,
   "metadata": {},
   "outputs": [
    {
     "data": {
      "image/png": "[encoded data removed]",
      "text/plain": [
       "<Figure size 864x864 with 1 Axes>"
      ]
     },
     "metadata": {
      "needs_background": "light"
     },
     "output_type": "display_data"
    }
   ],
   "source": [
    "history = pd.DataFrame(hist.history)\n",
    "plt.figure(figsize=(12,12))\n",
    "plt.plot(history[\"loss\"])\n",
    "plt.plot(history[\"val_loss\"])\n",
    "plt.title(\"Loss with pretrained word vectors\")\n",
    "plt.show()"
   ]
  },
  {
   "cell_type": "markdown",
   "metadata": {},
   "source": [
    "--------------------------------------------------------------------------------------------------------------"
   ]
  },
  {
   "cell_type": "markdown",
   "metadata": {},
   "source": [
    "## TESTING SENTENCES"
   ]
  },
  {
   "cell_type": "markdown",
   "metadata": {},
   "source": [
    "### Cleaning the sentence"
   ]
  },
  {
   "cell_type": "code",
   "execution_count": 34,
   "metadata": {},
   "outputs": [
    {
     "data": {
      "text/plain": [
       "'python unpack list dictionaries cell columns'"
      ]
     },
     "execution_count": 34,
     "metadata": {},
     "output_type": "execute_result"
    }
   ],
   "source": [
    "test_sentence= \"python: Unpacking a list of dictionaries in cell to columns\"\n",
    "\n",
    "test_sentence = clean_text(test_sentence) \n",
    "test_sentence = clean_punct(test_sentence) \n",
    "test_sentence = lemitizeWords(test_sentence) \n",
    "test_sentence = stopWordsRemove(test_sentence) \n",
    "\n",
    "test_sentence"
   ]
  },
  {
   "cell_type": "markdown",
   "metadata": {},
   "source": [
    "### Embeding the sentence"
   ]
  },
  {
   "cell_type": "code",
   "execution_count": 35,
   "metadata": {},
   "outputs": [],
   "source": [
    "ts_1=[word_index.get(title) for title in test_sentence.split(\" \")]\n",
    "\n",
    "test_data = pad_sequences([ts_1], maxlen=MAX_SEQUENCE_LENGTH, padding=\"pre\",\n",
    "                          truncating=\"post\")"
   ]
  },
  {
   "cell_type": "markdown",
   "metadata": {},
   "source": [
    "### Predicting the tag"
   ]
  },
  {
   "cell_type": "code",
   "execution_count": 36,
   "metadata": {},
   "outputs": [
    {
     "name": "stdout",
     "output_type": "stream",
     "text": [
      "['python']\n"
     ]
    }
   ],
   "source": [
    "y_test=model.predict([test_data])\n",
    "\n",
    "tag_index=np.argmax(y_test, axis=None, out=None)\n",
    "\n",
    "ques_tag=le.inverse_transform([tag_index])\n",
    "\n",
    "print(ques_tag)"
   ]
  },
  {
   "cell_type": "markdown",
   "metadata": {},
   "source": [
    "----------------------------------------"
   ]
  },
  {
   "cell_type": "markdown",
   "metadata": {},
   "source": [
    "## IMPROVING THE MODEL"
   ]
  },
  {
   "cell_type": "markdown",
   "metadata": {},
   "source": [
    "### Using non frequent terms "
   ]
  },
  {
   "cell_type": "code",
   "execution_count": 57,
   "metadata": {},
   "outputs": [],
   "source": [
    "# Finding the most frequent words\n",
    "tokens=[]\n",
    "\n",
    "for j in range(len(new_df['Body'])):\n",
    "        temp= tokenizer.tokenize(new_df['Body'].iloc[j])\n",
    "        tokens.append(temp) \n",
    "\n",
    "tokens = [item for sublist in tokens for item in sublist]        \n",
    "\n",
    "fd = FreqDist()\n",
    "\n",
    "for word_token in tokens:\n",
    "    fd.update([word_token])\n",
    "\n",
    "    tag_freq=1\n",
    "\n",
    "\n",
    "test_words=tokenizer.tokenize(test_sentence)\n",
    "\n",
    "\n"
   ]
  },
  {
   "cell_type": "code",
   "execution_count": 76,
   "metadata": {},
   "outputs": [],
   "source": [
    "# Finding the least frequent word in the sentence\n",
    "\n",
    "tag_freq_dict={}\n",
    "\n",
    "\n",
    "for word_token in test_words:\n",
    "    freq= fd.freq(word_token)\n",
    "    tag_freq_dict.update({word_token: freq})\n",
    "\n",
    "\n",
    "\n",
    "ques_tag_freq= nsmallest(2, tag_freq_dict, key = tag_freq_dict.get) \n",
    "\n",
    "    \n",
    "ques_tags= set([ques_tag[0],ques_tag_freq[0],ques_tag_freq[1]])"
   ]
  },
  {
   "cell_type": "code",
   "execution_count": 77,
   "metadata": {},
   "outputs": [
    {
     "name": "stdout",
     "output_type": "stream",
     "text": [
      "Possible tags for the question are: {'python', 'unpack', 'dictionaries'}\n"
     ]
    }
   ],
   "source": [
    "print(\"Possible tags for the question are:\", ques_tags)"
   ]
  },
  {
   "cell_type": "markdown",
   "metadata": {},
   "source": [
    "----------------------------------------"
   ]
  },
  {
   "cell_type": "markdown",
   "metadata": {},
   "source": [
    "## Next steps"
   ]
  },
  {
   "cell_type": "markdown",
   "metadata": {},
   "source": [
    "- Deploy the model on flask (WIP)\n",
    "- Improve model architecture\n",
    "- Run the same model on question \"Body\""
   ]
  }
 ],
 "metadata": {
  "kernelspec": {
   "display_name": "Python 3",
   "language": "python",
   "name": "python3"
  },
  "language_info": {
   "codemirror_mode": {
    "name": "ipython",
    "version": 3
   },
   "file_extension": ".py",
   "mimetype": "text/x-python",
   "name": "python",
   "nbconvert_exporter": "python",
   "pygments_lexer": "ipython3",
   "version": "3.7.6"
  }
 },
 "nbformat": 4,
 "nbformat_minor": 2
}
