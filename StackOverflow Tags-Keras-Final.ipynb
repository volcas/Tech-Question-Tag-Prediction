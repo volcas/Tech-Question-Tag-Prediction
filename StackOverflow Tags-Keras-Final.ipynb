{
 "cells": [
  {
   "cell_type": "code",
   "execution_count": 7,
   "metadata": {},
   "outputs": [],
   "source": [
    "import pandas as pd\n",
    "import nltk\n",
    "from bs4 import BeautifulSoup\n",
    "import re\n",
    "from sklearn.feature_extraction.text import TfidfVectorizer\n",
    "from sklearn.decomposition import LatentDirichletAllocation\n",
    "from sklearn.preprocessing import MultiLabelBinarizer, LabelEncoder\n",
    "from numpy import hstack, vstack\n",
    "from sklearn.model_selection import train_test_split\n",
    "from sklearn.neural_network import MLPClassifier\n",
    "from sklearn.metrics import hamming_loss, make_scorer, confusion_matrix\n",
    "from sklearn.ensemble import RandomForestClassifier\n",
    "from sklearn.multiclass import OneVsRestClassifier\n",
    "from sklearn.svm import LinearSVC\n",
    "from sklearn.model_selection import GridSearchCV\n",
    "from sklearn.dummy import DummyClassifier\n",
    "from sklearn.linear_model import SGDClassifier, LogisticRegression, Perceptron, PassiveAggressiveClassifier\n",
    "from sklearn.naive_bayes import MultinomialNB\n",
    "import numpy as np\n",
    "from nltk.tokenize import sent_tokenize, word_tokenize \n",
    "from keras import backend as K  \n",
    "from gensim.models import Word2Vec \n",
    "\n",
    "from nltk.tokenize import WordPunctTokenizer\n",
    "from nltk.probability import FreqDist\n",
    "\n",
    "import warnings\n",
    "warnings.filterwarnings(\"ignore\")"
   ]
  },
  {
   "cell_type": "code",
   "execution_count": 8,
   "metadata": {},
   "outputs": [],
   "source": [
    "\n",
    "questions= pd.read_csv('data/Questions.csv', encoding='iso-8859-1')\n",
    "answers=pd.read_csv('data/Answers.csv', encoding='iso-8859-1')\n",
    "tags=pd.read_csv('data/Tags.csv', encoding='iso-8859-1')"
   ]
  },
  {
   "cell_type": "markdown",
   "metadata": {},
   "source": [
    "# Combine Tags"
   ]
  },
  {
   "cell_type": "code",
   "execution_count": 9,
   "metadata": {},
   "outputs": [],
   "source": [
    "tags['Tag'] = tags['Tag'].astype(str)"
   ]
  },
  {
   "cell_type": "code",
   "execution_count": 11,
   "metadata": {},
   "outputs": [],
   "source": [
    "grouped_tags = tags.groupby(\"Id\")['Tag'].apply(lambda tags: ' '.join(tags))\n"
   ]
  },
  {
   "cell_type": "code",
   "execution_count": 12,
   "metadata": {},
   "outputs": [],
   "source": [
    "grouped_tags.reset_index()\n",
    "grouped_tags_final = pd.DataFrame({'Id':grouped_tags.index, 'Tags':grouped_tags.values})\n"
   ]
  },
  {
   "cell_type": "code",
   "execution_count": 13,
   "metadata": {},
   "outputs": [
    {
     "data": {
      "text/html": [
       "<div>\n",
       "<style scoped>\n",
       "    .dataframe tbody tr th:only-of-type {\n",
       "        vertical-align: middle;\n",
       "    }\n",
       "\n",
       "    .dataframe tbody tr th {\n",
       "        vertical-align: top;\n",
       "    }\n",
       "\n",
       "    .dataframe thead th {\n",
       "        text-align: right;\n",
       "    }\n",
       "</style>\n",
       "<table border=\"1\" class=\"dataframe\">\n",
       "  <thead>\n",
       "    <tr style=\"text-align: right;\">\n",
       "      <th></th>\n",
       "      <th>Id</th>\n",
       "      <th>Tags</th>\n",
       "    </tr>\n",
       "  </thead>\n",
       "  <tbody>\n",
       "    <tr>\n",
       "      <th>0</th>\n",
       "      <td>80</td>\n",
       "      <td>flex actionscript-3 air</td>\n",
       "    </tr>\n",
       "    <tr>\n",
       "      <th>1</th>\n",
       "      <td>90</td>\n",
       "      <td>svn tortoisesvn branch branching-and-merging</td>\n",
       "    </tr>\n",
       "    <tr>\n",
       "      <th>2</th>\n",
       "      <td>120</td>\n",
       "      <td>sql asp.net sitemap</td>\n",
       "    </tr>\n",
       "    <tr>\n",
       "      <th>3</th>\n",
       "      <td>180</td>\n",
       "      <td>algorithm language-agnostic colors color-space</td>\n",
       "    </tr>\n",
       "    <tr>\n",
       "      <th>4</th>\n",
       "      <td>260</td>\n",
       "      <td>c# .net scripting compiler-construction</td>\n",
       "    </tr>\n",
       "    <tr>\n",
       "      <th>...</th>\n",
       "      <td>...</td>\n",
       "      <td>...</td>\n",
       "    </tr>\n",
       "    <tr>\n",
       "      <th>1264211</th>\n",
       "      <td>40143210</td>\n",
       "      <td>php .htaccess</td>\n",
       "    </tr>\n",
       "    <tr>\n",
       "      <th>1264212</th>\n",
       "      <td>40143300</td>\n",
       "      <td>google-bigquery</td>\n",
       "    </tr>\n",
       "    <tr>\n",
       "      <th>1264213</th>\n",
       "      <td>40143340</td>\n",
       "      <td>android android-studio</td>\n",
       "    </tr>\n",
       "    <tr>\n",
       "      <th>1264214</th>\n",
       "      <td>40143360</td>\n",
       "      <td>javascript vue.js</td>\n",
       "    </tr>\n",
       "    <tr>\n",
       "      <th>1264215</th>\n",
       "      <td>40143380</td>\n",
       "      <td>npm mocha babel</td>\n",
       "    </tr>\n",
       "  </tbody>\n",
       "</table>\n",
       "<p>1264216 rows × 2 columns</p>\n",
       "</div>"
      ],
      "text/plain": [
       "               Id                                            Tags\n",
       "0              80                         flex actionscript-3 air\n",
       "1              90    svn tortoisesvn branch branching-and-merging\n",
       "2             120                             sql asp.net sitemap\n",
       "3             180  algorithm language-agnostic colors color-space\n",
       "4             260         c# .net scripting compiler-construction\n",
       "...           ...                                             ...\n",
       "1264211  40143210                                   php .htaccess\n",
       "1264212  40143300                                 google-bigquery\n",
       "1264213  40143340                          android android-studio\n",
       "1264214  40143360                               javascript vue.js\n",
       "1264215  40143380                                 npm mocha babel\n",
       "\n",
       "[1264216 rows x 2 columns]"
      ]
     },
     "execution_count": 13,
     "metadata": {},
     "output_type": "execute_result"
    }
   ],
   "source": [
    "grouped_tags_final"
   ]
  },
  {
   "cell_type": "markdown",
   "metadata": {},
   "source": [
    "# Drop unnecessary columns"
   ]
  },
  {
   "cell_type": "code",
   "execution_count": 14,
   "metadata": {},
   "outputs": [],
   "source": [
    "questions.drop(columns=['OwnerUserId', 'CreationDate', 'ClosedDate'], inplace=True)\n",
    "questions = questions.merge(grouped_tags_final, on='Id')\n"
   ]
  },
  {
   "cell_type": "markdown",
   "metadata": {},
   "source": [
    "# Filtering out questions "
   ]
  },
  {
   "cell_type": "code",
   "execution_count": 15,
   "metadata": {},
   "outputs": [
    {
     "name": "stdout",
     "output_type": "stream",
     "text": [
      "Dupplicate entries: 0\n"
     ]
    }
   ],
   "source": [
    "new_df = questions[questions['Score']>5]\n",
    "\n",
    "print('Dupplicate entries: {}'.format(new_df.duplicated().sum()))\n",
    "new_df.drop_duplicates(inplace = True)"
   ]
  },
  {
   "cell_type": "markdown",
   "metadata": {},
   "source": [
    "# Selection of top 100 tags"
   ]
  },
  {
   "cell_type": "code",
   "execution_count": 16,
   "metadata": {},
   "outputs": [],
   "source": [
    "new_df['Tags'] = new_df['Tags'].apply(lambda x: x.split())\n",
    "all_tags = [item for sublist in new_df['Tags'].values for item in sublist]\n",
    "my_set = set(all_tags)\n",
    "unique_tags = list(my_set)\n"
   ]
  },
  {
   "cell_type": "code",
   "execution_count": 17,
   "metadata": {},
   "outputs": [],
   "source": [
    "flat_list = [item for sublist in new_df['Tags'].values for item in sublist]\n",
    "\n",
    "keywords = nltk.FreqDist(flat_list)\n",
    "keywords = nltk.FreqDist(keywords)\n",
    "frequencies_words = keywords.most_common(100)\n",
    "tags_features = [word[0] for word in frequencies_words]\n"
   ]
  },
  {
   "cell_type": "code",
   "execution_count": 94,
   "metadata": {},
   "outputs": [],
   "source": [
    "try:\n",
    "    import cPickle as pickle\n",
    "except ImportError:  # Python 3.x\n",
    "    import pickle\n",
    "\n",
    "with open('tags_features.p', 'wb') as fp:\n",
    "    pickle.dump(tags_features, fp, protocol=pickle.HIGHEST_PROTOCOL)"
   ]
  },
  {
   "cell_type": "code",
   "execution_count": 95,
   "metadata": {},
   "outputs": [],
   "source": [
    "with open('tags_features.p', 'rb') as tp:\n",
    "    tags_features = pickle.load(tp)"
   ]
  },
  {
   "cell_type": "code",
   "execution_count": 18,
   "metadata": {},
   "outputs": [],
   "source": [
    "def most_common(tags):\n",
    "    tags_filtered = []\n",
    "    for i in range(0, len(tags)):\n",
    "        if tags[i] in tags_features:\n",
    "            tags_filtered.append(tags[i])\n",
    "    return tags_filtered\n",
    "\n",
    "# Drop the tag if the tag is not in top 100\n",
    "new_df['Tags'] = new_df['Tags'].apply(lambda x: most_common(x))\n",
    "\n",
    "# Replacing the non tag featured dataset with a none element\n",
    "new_df['Tags'] = new_df['Tags'].apply(lambda x: x if len(x)>0 else None)\n"
   ]
  },
  {
   "cell_type": "code",
   "execution_count": 19,
   "metadata": {},
   "outputs": [],
   "source": [
    "new_df.dropna(subset=['Tags'], inplace=True)\n"
   ]
  },
  {
   "cell_type": "code",
   "execution_count": 20,
   "metadata": {},
   "outputs": [
    {
     "data": {
      "text/html": [
       "<div>\n",
       "<style scoped>\n",
       "    .dataframe tbody tr th:only-of-type {\n",
       "        vertical-align: middle;\n",
       "    }\n",
       "\n",
       "    .dataframe tbody tr th {\n",
       "        vertical-align: top;\n",
       "    }\n",
       "\n",
       "    .dataframe thead th {\n",
       "        text-align: right;\n",
       "    }\n",
       "</style>\n",
       "<table border=\"1\" class=\"dataframe\">\n",
       "  <thead>\n",
       "    <tr style=\"text-align: right;\">\n",
       "      <th></th>\n",
       "      <th>Id</th>\n",
       "      <th>Score</th>\n",
       "      <th>Title</th>\n",
       "      <th>Body</th>\n",
       "      <th>Tags</th>\n",
       "    </tr>\n",
       "  </thead>\n",
       "  <tbody>\n",
       "    <tr>\n",
       "      <th>1</th>\n",
       "      <td>90</td>\n",
       "      <td>144</td>\n",
       "      <td>Good branching and merging tutorials for Torto...</td>\n",
       "      <td>&lt;p&gt;Are there any really good tutorials explain...</td>\n",
       "      <td>[svn]</td>\n",
       "    </tr>\n",
       "    <tr>\n",
       "      <th>2</th>\n",
       "      <td>120</td>\n",
       "      <td>21</td>\n",
       "      <td>ASP.NET Site Maps</td>\n",
       "      <td>&lt;p&gt;Has anyone got experience creating &lt;strong&gt;...</td>\n",
       "      <td>[sql, asp.net]</td>\n",
       "    </tr>\n",
       "    <tr>\n",
       "      <th>3</th>\n",
       "      <td>180</td>\n",
       "      <td>53</td>\n",
       "      <td>Function for creating color wheels</td>\n",
       "      <td>&lt;p&gt;This is something I've pseudo-solved many t...</td>\n",
       "      <td>[algorithm]</td>\n",
       "    </tr>\n",
       "    <tr>\n",
       "      <th>4</th>\n",
       "      <td>260</td>\n",
       "      <td>49</td>\n",
       "      <td>Adding scripting functionality to .NET applica...</td>\n",
       "      <td>&lt;p&gt;I have a little game written in C#. It uses...</td>\n",
       "      <td>[c#, .net]</td>\n",
       "    </tr>\n",
       "    <tr>\n",
       "      <th>5</th>\n",
       "      <td>330</td>\n",
       "      <td>29</td>\n",
       "      <td>Should I use nested classes in this case?</td>\n",
       "      <td>&lt;p&gt;I am working on a collection of classes use...</td>\n",
       "      <td>[c++, oop, class]</td>\n",
       "    </tr>\n",
       "    <tr>\n",
       "      <th>...</th>\n",
       "      <td>...</td>\n",
       "      <td>...</td>\n",
       "      <td>...</td>\n",
       "      <td>...</td>\n",
       "      <td>...</td>\n",
       "    </tr>\n",
       "    <tr>\n",
       "      <th>1262834</th>\n",
       "      <td>40110020</td>\n",
       "      <td>6</td>\n",
       "      <td>STL list very bad performance</td>\n",
       "      <td>&lt;p&gt;It's supposed that \"push_back\" and \"pop_fro...</td>\n",
       "      <td>[c++, list]</td>\n",
       "    </tr>\n",
       "    <tr>\n",
       "      <th>1262915</th>\n",
       "      <td>40111730</td>\n",
       "      <td>7</td>\n",
       "      <td>How to use a dict to subset a DataFrame?</td>\n",
       "      <td>&lt;p&gt;Say, I have given a DataFrame with most of ...</td>\n",
       "      <td>[python]</td>\n",
       "    </tr>\n",
       "    <tr>\n",
       "      <th>1263065</th>\n",
       "      <td>40115300</td>\n",
       "      <td>7</td>\n",
       "      <td>Is there a way to use itertools in python to c...</td>\n",
       "      <td>&lt;p&gt;Let's say I have the following code:&lt;/p&gt;\\n\\...</td>\n",
       "      <td>[python]</td>\n",
       "    </tr>\n",
       "    <tr>\n",
       "      <th>1263454</th>\n",
       "      <td>40125310</td>\n",
       "      <td>6</td>\n",
       "      <td>Why does my result data returned as void* gets...</td>\n",
       "      <td>&lt;p&gt;I am working in a project with a huge legac...</td>\n",
       "      <td>[c++]</td>\n",
       "    </tr>\n",
       "    <tr>\n",
       "      <th>1264205</th>\n",
       "      <td>40143070</td>\n",
       "      <td>6</td>\n",
       "      <td>What exactly makes a type system consistent?</td>\n",
       "      <td>&lt;p&gt;I've taken AndrÃ¡s KovÃ¡cs's &lt;a href=\"https...</td>\n",
       "      <td>[haskell]</td>\n",
       "    </tr>\n",
       "  </tbody>\n",
       "</table>\n",
       "<p>63167 rows × 5 columns</p>\n",
       "</div>"
      ],
      "text/plain": [
       "               Id  Score                                              Title  \\\n",
       "1              90    144  Good branching and merging tutorials for Torto...   \n",
       "2             120     21                                  ASP.NET Site Maps   \n",
       "3             180     53                 Function for creating color wheels   \n",
       "4             260     49  Adding scripting functionality to .NET applica...   \n",
       "5             330     29          Should I use nested classes in this case?   \n",
       "...           ...    ...                                                ...   \n",
       "1262834  40110020      6                      STL list very bad performance   \n",
       "1262915  40111730      7           How to use a dict to subset a DataFrame?   \n",
       "1263065  40115300      7  Is there a way to use itertools in python to c...   \n",
       "1263454  40125310      6  Why does my result data returned as void* gets...   \n",
       "1264205  40143070      6       What exactly makes a type system consistent?   \n",
       "\n",
       "                                                      Body               Tags  \n",
       "1        <p>Are there any really good tutorials explain...              [svn]  \n",
       "2        <p>Has anyone got experience creating <strong>...     [sql, asp.net]  \n",
       "3        <p>This is something I've pseudo-solved many t...        [algorithm]  \n",
       "4        <p>I have a little game written in C#. It uses...         [c#, .net]  \n",
       "5        <p>I am working on a collection of classes use...  [c++, oop, class]  \n",
       "...                                                    ...                ...  \n",
       "1262834  <p>It's supposed that \"push_back\" and \"pop_fro...        [c++, list]  \n",
       "1262915  <p>Say, I have given a DataFrame with most of ...           [python]  \n",
       "1263065  <p>Let's say I have the following code:</p>\\n\\...           [python]  \n",
       "1263454  <p>I am working in a project with a huge legac...              [c++]  \n",
       "1264205  <p>I've taken AndrÃ¡s KovÃ¡cs's <a href=\"https...          [haskell]  \n",
       "\n",
       "[63167 rows x 5 columns]"
      ]
     },
     "execution_count": 20,
     "metadata": {},
     "output_type": "execute_result"
    }
   ],
   "source": [
    "new_df"
   ]
  },
  {
   "cell_type": "markdown",
   "metadata": {},
   "source": [
    "# Cleaning of Body column"
   ]
  },
  {
   "cell_type": "markdown",
   "metadata": {},
   "source": [
    "1. Removing of html tags and contracted words"
   ]
  },
  {
   "cell_type": "code",
   "execution_count": 21,
   "metadata": {},
   "outputs": [],
   "source": [
    "# print(new_df['Body'].head(5))\n",
    "new_df['Body'] = new_df['Body'].apply(lambda x: BeautifulSoup(x).get_text()) \n",
    "# print(new_df['Body'].head(5))\n",
    "\n",
    "def clean_text(text):\n",
    "    text = text.lower()\n",
    "    text = re.sub(r\"what's\", \"what is \", text)\n",
    "    text = re.sub(r\"\\'s\", \" \", text)\n",
    "    text = re.sub(r\"\\'ve\", \" have \", text)\n",
    "    text = re.sub(r\"can't\", \"can not \", text)\n",
    "    text = re.sub(r\"n't\", \" not \", text)\n",
    "    text = re.sub(r\"i'm\", \"i am \", text)\n",
    "    text = re.sub(r\"\\'re\", \" are \", text)\n",
    "    text = re.sub(r\"\\'d\", \" would \", text)\n",
    "    text = re.sub(r\"\\'ll\", \" will \", text)\n",
    "    text = re.sub(r\"\\'scuse\", \" excuse \", text)\n",
    "    text = re.sub(r\"\\'\\n\", \" \", text)\n",
    "    text = re.sub(r\"\\'\\xa0\", \" \", text)\n",
    "    text = re.sub('\\s+', ' ', text)\n",
    "    text = text.strip(' ')\n",
    "    return text\n",
    "\n",
    "new_df['Body'] = new_df['Body'].apply(lambda x: clean_text(x)) \n",
    "# print(new_df['Body'].head(5))"
   ]
  },
  {
   "cell_type": "markdown",
   "metadata": {},
   "source": [
    "2. Removing of punctuations"
   ]
  },
  {
   "cell_type": "code",
   "execution_count": 22,
   "metadata": {},
   "outputs": [],
   "source": [
    "token=nltk.ToktokTokenizer()\n",
    "\n",
    "punct = '!\"#$%&\\'()*+,./:;<=>?@[\\\\]^_`{|}~'\n",
    "\n",
    "def strip_list_noempty(mylist):\n",
    "    # To check if the object is of string type\n",
    "    newlist = (item.strip() if hasattr(item, 'strip') else item for item in mylist)\n",
    "    return [item for item in newlist if item != '']\n",
    "\n",
    "def clean_punct(text): \n",
    "    words=token.tokenize(text)\n",
    "    punctuation_filtered = []\n",
    "    # Same can be achieved using remove punctuation(stopwords)\n",
    "    regex = re.compile('[%s]' % re.escape(punct))\n",
    "    \n",
    "    #Never appears again?\n",
    "    remove_punctuation = str.maketrans(' ', ' ', punct)\n",
    "    \n",
    "    #Removes punctuation from words which are not features\n",
    "    for w in words:\n",
    "        if w in tags_features:\n",
    "            punctuation_filtered.append(w)\n",
    "\n",
    "        else:\n",
    "            punctuation_filtered.append(regex.sub('', w))\n",
    "    # Takes only string elements(as strip is a feature of string data type)        \n",
    "    filtered_list = strip_list_noempty(punctuation_filtered)\n",
    "        \n",
    "    return ' '.join(map(str, filtered_list))\n",
    "\n",
    "new_df['Body'] = new_df['Body'].apply(lambda x: clean_punct(x)) "
   ]
  },
  {
   "cell_type": "code",
   "execution_count": 103,
   "metadata": {},
   "outputs": [],
   "source": [
    "try:\n",
    "    import cPickle as pickle\n",
    "except ImportError:  # Python 3.x\n",
    "    import pickle\n",
    "\n",
    "with open('new_stop_words.p', 'wb') as fp:\n",
    "    pickle.dump(new_stop_words, fp, protocol=pickle.HIGHEST_PROTOCOL)\n",
    "    \n",
    "with open('new_stop_words.p', 'rb') as nsp:\n",
    "    new_stop_words = pickle.load(nsp)"
   ]
  },
  {
   "cell_type": "code",
   "execution_count": 27,
   "metadata": {},
   "outputs": [],
   "source": [
    "lemma=nltk.WordNetLemmatizer()\n",
    "stop_words = set(nltk.corpus.stopwords.words(\"english\"))\n",
    "\n",
    "def lemitizeWords(text):\n",
    "    words=token.tokenize(text)\n",
    "    listLemma=[]\n",
    "    for w in words:\n",
    "        x=lemma.lemmatize(w, pos=\"v\")\n",
    "        listLemma.append(x)\n",
    "    return ' '.join(map(str, listLemma))\n",
    "\n",
    "def stopWordsRemove(text):\n",
    "    \n",
    "    stop_words = set(nltk.corpus.stopwords.words(\"english\"))\n",
    "    stop_words.update(new_stop_words)\n",
    "\n",
    "    words=token.tokenize(text)\n",
    "    \n",
    "    filtered = [w for w in words if not w in stop_words]\n",
    "    \n",
    "    return ' '.join(map(str, filtered))\n"
   ]
  },
  {
   "cell_type": "code",
   "execution_count": 28,
   "metadata": {},
   "outputs": [
    {
     "name": "stdout",
     "output_type": "stream",
     "text": [
      "1    be there any really good tutorials explain bra...\n",
      "2    have anyone get experience create sql-based as...\n",
      "3    this be something i have pseudo-solved many ti...\n",
      "4    i have a little game write in c it use a datab...\n",
      "5    i be work on a collection of class use for vid...\n",
      "Name: Body, dtype: object\n",
      "1    really good tutorials explain branch merge apa...\n",
      "2    anyone get experience create sql-based asp.net...\n",
      "3    something pseudo-solved many time never quite ...\n",
      "4    little game write c use database back-end trad...\n",
      "5    work collection class use video playback recor...\n",
      "Name: Body, dtype: object\n"
     ]
    }
   ],
   "source": [
    "new_df['Body'] = new_df['Body'].apply(lambda x: lemitizeWords(x)) \n",
    "print(new_df['Body'].head(5))\n",
    "\n",
    "new_df['Body'] = new_df['Body'].apply(lambda x: stopWordsRemove(x)) \n",
    "print(new_df['Body'].head(5))"
   ]
  },
  {
   "cell_type": "code",
   "execution_count": 29,
   "metadata": {},
   "outputs": [],
   "source": [
    "new_df['Title'] = new_df['Title'].apply(lambda x: str(x))\n",
    "new_df['Title'] = new_df['Title'].apply(lambda x: clean_text(x)) \n",
    "new_df['Title'] = new_df['Title'].apply(lambda x: clean_punct(x)) \n",
    "new_df['Title'] = new_df['Title'].apply(lambda x: lemitizeWords(x)) \n",
    "new_df['Title'] = new_df['Title'].apply(lambda x: stopWordsRemove(x)) "
   ]
  },
  {
   "cell_type": "code",
   "execution_count": 30,
   "metadata": {},
   "outputs": [
    {
     "name": "stdout",
     "output_type": "stream",
     "text": [
      "1       good branch merge tutorials tortoisesvn\n",
      "2                              asp.net site map\n",
      "3                   function create color wheel\n",
      "4    add script functionality .net applications\n",
      "5                           use nest class case\n",
      "Name: Title, dtype: object\n"
     ]
    }
   ],
   "source": [
    "print(new_df['Title'].head(5))"
   ]
  },
  {
   "cell_type": "code",
   "execution_count": 31,
   "metadata": {},
   "outputs": [
    {
     "data": {
      "text/plain": [
       "(63167,)"
      ]
     },
     "execution_count": 31,
     "metadata": {},
     "output_type": "execute_result"
    }
   ],
   "source": [
    "new_df['Title'].shape"
   ]
  },
  {
   "cell_type": "markdown",
   "metadata": {},
   "source": [
    "# Changing the dataset for Deep Learning"
   ]
  },
  {
   "cell_type": "code",
   "execution_count": 32,
   "metadata": {},
   "outputs": [],
   "source": [
    "from nltk.tokenize import WordPunctTokenizer\n",
    "from collections import Counter\n",
    "\n",
    "tokenizer = WordPunctTokenizer()\n",
    "\n",
    "vocab = Counter()\n",
    "corpus=[]\n",
    "\n",
    "for j in range(len(new_df['Title'])):\n",
    "        temp= tokenizer.tokenize(new_df['Title'].iloc[j])\n",
    "        corpus.append(temp) \n",
    "        # To keep track of our vocabulary\n",
    "        vocab.update(temp)\n",
    " "
   ]
  },
  {
   "cell_type": "code",
   "execution_count": 33,
   "metadata": {},
   "outputs": [],
   "source": [
    "model1 = Word2Vec(sentences=corpus, size = 100, window = 2) "
   ]
  },
  {
   "cell_type": "code",
   "execution_count": 34,
   "metadata": {},
   "outputs": [
    {
     "name": "stdout",
     "output_type": "stream",
     "text": [
      "Number of word vectors: 5123\n"
     ]
    }
   ],
   "source": [
    "word_vectors = model1.wv\n",
    "\n",
    "print(\"Number of word vectors: {}\".format(len(word_vectors.vocab)))"
   ]
  },
  {
   "cell_type": "code",
   "execution_count": 35,
   "metadata": {},
   "outputs": [],
   "source": [
    "MAX_NB_WORDS = len(word_vectors.vocab)\n",
    "MAX_SEQUENCE_LENGTH = 200"
   ]
  },
  {
   "cell_type": "code",
   "execution_count": 36,
   "metadata": {},
   "outputs": [],
   "source": [
    "from keras.preprocessing.sequence import pad_sequences\n",
    "\n",
    "train_size=44000\n",
    "\n",
    "# Creating word index based on their frequency\n",
    "word_index = {t[0]: i+1 for i,t in enumerate(vocab.most_common(MAX_NB_WORDS))}\n",
    "\n",
    "# Embed the data\n",
    "\n",
    "full_sequences = [[word_index.get(t) for t in title]\n",
    "             for title in new_df['Title'].str.split()]\n",
    "\n",
    "fs_cleaned= [[0 if v is None else v for v in seq] for seq in full_sequences]\n",
    "\n",
    "sequences = fs_cleaned[:train_size]\n",
    "\n",
    "test_sequences = fs_cleaned[train_size:]\n"
   ]
  },
  {
   "cell_type": "code",
   "execution_count": 39,
   "metadata": {},
   "outputs": [],
   "source": [
    "try:\n",
    "    import cPickle as pickle\n",
    "except ImportError:  # Python 3.x\n",
    "    import pickle\n",
    "\n",
    "with open('word_index.p', 'wb') as fp:\n",
    "    pickle.dump(word_index, fp, protocol=pickle.HIGHEST_PROTOCOL)"
   ]
  },
  {
   "cell_type": "code",
   "execution_count": 40,
   "metadata": {},
   "outputs": [
    {
     "name": "stdout",
     "output_type": "stream",
     "text": [
      "Shape of data tensor: (44000, 200)\n",
      "Shape of label tensor: (44000,)\n",
      "Shape of test_data tensor: (19167, 200)\n"
     ]
    }
   ],
   "source": [
    "# pad\n",
    "data = pad_sequences(sequences, maxlen=MAX_SEQUENCE_LENGTH, \n",
    "                     padding=\"pre\", truncating=\"post\")\n",
    "\n",
    "y = new_df['Tags'][:train_size]\n",
    "y_single_train= pd.Series([item[0] for item in y])\n",
    "le= LabelEncoder()\n",
    "y_single= pd.Series([item[0] for item in new_df['Tags']])\n",
    "le.fit(y_single)\n",
    "y_bin = le.transform(y_single_train)\n",
    "\n",
    "print('Shape of data tensor:', data.shape)\n",
    "print('Shape of label tensor:', y_bin.shape)\n",
    "\n",
    "test_data = pad_sequences(test_sequences, maxlen=MAX_SEQUENCE_LENGTH, padding=\"pre\",\n",
    "                          truncating=\"post\")\n",
    "print('Shape of test_data tensor:', test_data.shape)"
   ]
  },
  {
   "cell_type": "code",
   "execution_count": 105,
   "metadata": {},
   "outputs": [],
   "source": [
    "try:\n",
    "    import cPickle as pickle\n",
    "except ImportError:  # Python 3.x\n",
    "    import pickle\n",
    "\n",
    "with open('label_encoder.p', 'wb') as fp:\n",
    "    pickle.dump(le, fp, protocol=pickle.HIGHEST_PROTOCOL)"
   ]
  },
  {
   "cell_type": "code",
   "execution_count": 41,
   "metadata": {},
   "outputs": [],
   "source": [
    "y_test = new_df['Tags'][train_size:]\n",
    "y_single_test= pd.Series([item[0] for item in y_test])\n",
    "y_test_bin = le.transform(y_single_test)\n"
   ]
  },
  {
   "cell_type": "code",
   "execution_count": 42,
   "metadata": {},
   "outputs": [],
   "source": [
    "WV_DIM = 100\n",
    "nb_words = min(MAX_NB_WORDS, len(word_vectors.vocab)+1)\n",
    "\n",
    "# Initialize the matrix with random numbers\n",
    "wv_matrix = (np.random.rand(nb_words, WV_DIM) - 0.5) / 5.0\n",
    "\n",
    "for word, i in word_index.items():\n",
    "#     if i >= MAX_NB_WORDS:\n",
    "#         continue\n",
    "    try:\n",
    "        embedding_vector = word_vectors[word]\n",
    "        # words not found in embedding index will be all-zeros.\n",
    "        wv_matrix[i] = embedding_vector\n",
    "    except:\n",
    "        pass "
   ]
  },
  {
   "cell_type": "code",
   "execution_count": 43,
   "metadata": {},
   "outputs": [],
   "source": [
    "from keras.layers import Dense, Input, LSTM, Embedding, Dropout,SpatialDropout1D, Bidirectional\n",
    "from keras.models import Model, Sequential\n",
    "from keras.optimizers import Adam\n",
    "from keras.layers.normalization import BatchNormalization"
   ]
  },
  {
   "cell_type": "code",
   "execution_count": 44,
   "metadata": {},
   "outputs": [],
   "source": [
    "# EVALUATION METRIC\n",
    "def avg_jacard_score(y_true,y_pred):\n",
    "    '''\n",
    "    see https://en.wikipedia.org/wiki/Multi-label_classification#Statistics_and_evaluation_metrics\n",
    "    '''\n",
    "#     y_pred= K.sum(K.round((y_pred)))\n",
    "#     y_true= K.sum(K.round((y_true)))\n",
    "   \n",
    "#     jacard = K.minimum(y_true,y_pred).sum(axis=1) / K.maximum(y_true,y_pred).sum(axis=1)\n",
    "    jacard = K.sum(K.minimum(y_true,y_pred)) / K.sum(K.maximum(y_true,y_pred))\n",
    "    return K.sum(jacard)/19167\n"
   ]
  },
  {
   "cell_type": "code",
   "execution_count": 45,
   "metadata": {},
   "outputs": [
    {
     "data": {
      "text/plain": [
       "array([84, 81,  2, ..., 13, 47, 46])"
      ]
     },
     "execution_count": 45,
     "metadata": {},
     "output_type": "execute_result"
    }
   ],
   "source": [
    "# y_pred= np.round(np.clip(y_pred))\n",
    "# y_true= np.round(np.clip(y_true))\n",
    "np.round(y_bin)"
   ]
  },
  {
   "cell_type": "code",
   "execution_count": 46,
   "metadata": {},
   "outputs": [
    {
     "name": "stdout",
     "output_type": "stream",
     "text": [
      "WARNING:tensorflow:From C:\\Users\\nnair\\miniconda3\\lib\\site-packages\\tensorflow\\python\\framework\\op_def_library.py:263: colocate_with (from tensorflow.python.framework.ops) is deprecated and will be removed in a future version.\n",
      "Instructions for updating:\n",
      "Colocations handled automatically by placer.\n",
      "WARNING:tensorflow:From C:\\Users\\nnair\\miniconda3\\lib\\site-packages\\keras\\backend\\tensorflow_backend.py:1242: calling reduce_sum_v1 (from tensorflow.python.ops.math_ops) with keep_dims is deprecated and will be removed in a future version.\n",
      "Instructions for updating:\n",
      "keep_dims is deprecated, use keepdims instead\n"
     ]
    }
   ],
   "source": [
    "model = Sequential()\n",
    "\n",
    "model.add(Embedding(nb_words,\n",
    "                     WV_DIM,\n",
    "                     mask_zero=False,\n",
    "                     weights=[wv_matrix],\n",
    "                     input_length=MAX_SEQUENCE_LENGTH))\n",
    "model.add(LSTM(32))\n",
    "\n",
    "\n",
    "model.add(Dense(100,init='uniform', activation='sigmoid'))\n",
    "\n",
    "\n",
    "# model.compile(loss='binary_crossentropy',\n",
    "#               optimizer=Adam(lr=0.001, clipnorm=.25, beta_1=0.7, beta_2=0.99),\n",
    "#               metrics=[avg_jacard_score])\n",
    "              \n",
    "\n",
    "model.compile(loss='categorical_crossentropy',\n",
    "              optimizer=Adam(lr=0.001, clipnorm=.25, beta_1=0.7, beta_2=0.99))\n",
    "                  \n"
   ]
  },
  {
   "cell_type": "code",
   "execution_count": 47,
   "metadata": {},
   "outputs": [],
   "source": [
    "from keras.utils import to_categorical \n",
    "\n",
    "y_binary = to_categorical(y_bin)\n"
   ]
  },
  {
   "cell_type": "code",
   "execution_count": 48,
   "metadata": {},
   "outputs": [
    {
     "name": "stdout",
     "output_type": "stream",
     "text": [
      "WARNING:tensorflow:From C:\\Users\\nnair\\miniconda3\\lib\\site-packages\\tensorflow\\python\\ops\\math_ops.py:3066: to_int32 (from tensorflow.python.ops.math_ops) is deprecated and will be removed in a future version.\n",
      "Instructions for updating:\n",
      "Use tf.cast instead.\n",
      "Train on 39600 samples, validate on 4400 samples\n",
      "Epoch 1/20\n",
      "39600/39600 [==============================] - 139s 4ms/step - loss: 3.8309 - val_loss: 3.5618\n",
      "Epoch 2/20\n",
      "39600/39600 [==============================] - 135s 3ms/step - loss: 3.5335 - val_loss: 3.5389\n",
      "Epoch 3/20\n",
      "39600/39600 [==============================] - 132s 3ms/step - loss: 3.5005 - val_loss: 3.5025\n",
      "Epoch 4/20\n",
      "39600/39600 [==============================] - 128s 3ms/step - loss: 3.4186 - val_loss: 3.3964\n",
      "Epoch 5/20\n",
      "39600/39600 [==============================] - 132s 3ms/step - loss: 3.2874 - val_loss: 3.2741\n",
      "Epoch 6/20\n",
      "39600/39600 [==============================] - 138s 3ms/step - loss: 3.1287 - val_loss: 3.1349\n",
      "Epoch 7/20\n",
      "39600/39600 [==============================] - 131s 3ms/step - loss: 2.9541 - val_loss: 2.9948\n",
      "Epoch 8/20\n",
      "39600/39600 [==============================] - 136s 3ms/step - loss: 2.7744 - val_loss: 2.8387\n",
      "Epoch 9/20\n",
      "39600/39600 [==============================] - 135s 3ms/step - loss: 2.5932 - val_loss: 2.7013\n",
      "Epoch 10/20\n",
      "39600/39600 [==============================] - 129s 3ms/step - loss: 2.4138 - val_loss: 2.5615\n",
      "Epoch 11/20\n",
      "39600/39600 [==============================] - 130s 3ms/step - loss: 2.2655 - val_loss: 2.4753\n",
      "Epoch 12/20\n",
      "39600/39600 [==============================] - 134s 3ms/step - loss: 2.1318 - val_loss: 2.3704\n",
      "Epoch 13/20\n",
      "39600/39600 [==============================] - 124s 3ms/step - loss: 2.0129 - val_loss: 2.2981\n",
      "Epoch 14/20\n",
      "39600/39600 [==============================] - 127s 3ms/step - loss: 1.9136 - val_loss: 2.2383\n",
      "Epoch 15/20\n",
      "39600/39600 [==============================] - 122s 3ms/step - loss: 1.8271 - val_loss: 2.2000\n",
      "Epoch 16/20\n",
      "39600/39600 [==============================] - 123s 3ms/step - loss: 1.7509 - val_loss: 2.1512\n",
      "Epoch 17/20\n",
      "39600/39600 [==============================] - 126s 3ms/step - loss: 1.6833 - val_loss: 2.1452\n",
      "Epoch 18/20\n",
      "39600/39600 [==============================] - 123s 3ms/step - loss: 1.6251 - val_loss: 2.1156\n",
      "Epoch 19/20\n",
      "39600/39600 [==============================] - 125s 3ms/step - loss: 1.5732 - val_loss: 2.0939\n",
      "Epoch 20/20\n",
      "39600/39600 [==============================] - 129s 3ms/step - loss: 1.5276 - val_loss: 2.0975\n"
     ]
    }
   ],
   "source": [
    "hist=model.fit([data], y_binary, validation_split=0.1,\n",
    "                 epochs=20, batch_size=256, shuffle=True)"
   ]
  },
  {
   "cell_type": "code",
   "execution_count": 49,
   "metadata": {},
   "outputs": [
    {
     "data": {
      "image/png": "[encoded data removed]",
      "text/plain": [
       "<Figure size 864x864 with 1 Axes>"
      ]
     },
     "metadata": {
      "needs_background": "light"
     },
     "output_type": "display_data"
    }
   ],
   "source": [
    "import matplotlib.pyplot as plt\n",
    "history = pd.DataFrame(hist.history)\n",
    "plt.figure(figsize=(12,12))\n",
    "plt.plot(history[\"loss\"])\n",
    "plt.plot(history[\"val_loss\"])\n",
    "plt.title(\"Loss with pretrained word vectors\")\n",
    "plt.show()"
   ]
  },
  {
   "cell_type": "code",
   "execution_count": null,
   "metadata": {},
   "outputs": [],
   "source": [
    "# result = np.where(test_data == 5123)\n",
    "# listOfCoordinates= list(zip(result[0], result[1]))\n",
    "# for cord in listOfCoordinates:\n",
    "#     print(cord)\n",
    "\n",
    "\n",
    "\n",
    "y_pred=model.predict([test_data])"
   ]
  },
  {
   "cell_type": "code",
   "execution_count": null,
   "metadata": {},
   "outputs": [],
   "source": [
    "def avg_jacard(y_true,y_pred):\n",
    "    '''\n",
    "    see https://en.wikipedia.org/wiki/Multi-label_classification#Statistics_and_evaluation_metrics\n",
    "    '''\n",
    "    jacard = np.minimum(y_true,y_pred).sum(axis=1) / np.maximum(y_true,y_pred).sum(axis=1)\n",
    "    return jacard.mean()\n",
    "  \n",
    "\n",
    "def print_score(y_pred, y_test_bin):\n",
    "#     print(\"Clf: \", clf.__class__.__name__)\n",
    "    print(\"Jacard score: {}\".format(avg_jacard(y_test_bin, y_pred))) # Higher the better\n",
    "    print(\"Hamming loss: {}\".format(hamming_loss(y_pred, y_test_bin))) # Lower the better\n",
    "    print(\"---\")    "
   ]
  },
  {
   "cell_type": "code",
   "execution_count": null,
   "metadata": {},
   "outputs": [],
   "source": [
    "# a=np.argmax(y_test_bin, axis=1)\n",
    "# b=np.argmax(y_pred, axis=1)\n",
    "# print_score(b,a)\n",
    "avg_jacard(y_pred, y_test_bin)\n",
    "# y_pred.shape\n",
    "# y_test_bin.shape"
   ]
  },
  {
   "cell_type": "markdown",
   "metadata": {},
   "source": [
    "--------------------------------------------------------------------------------------------------------------"
   ]
  },
  {
   "cell_type": "markdown",
   "metadata": {},
   "source": [
    "# TESTING SENTENCES (NEW)"
   ]
  },
  {
   "cell_type": "code",
   "execution_count": 86,
   "metadata": {},
   "outputs": [
    {
     "data": {
      "text/plain": [
       "'jquery unpack list dictionaries cell columns'"
      ]
     },
     "execution_count": 86,
     "metadata": {},
     "output_type": "execute_result"
    }
   ],
   "source": [
    "test_sentence= \"jquery: Unpacking a list of dictionaries in cell to columns\"\n",
    "\n",
    "test_sentence = clean_text(test_sentence) \n",
    "test_sentence = clean_punct(test_sentence) \n",
    "test_sentence = lemitizeWords(test_sentence) \n",
    "test_sentence = stopWordsRemove(test_sentence) \n",
    "\n",
    "test_sentence"
   ]
  },
  {
   "cell_type": "code",
   "execution_count": 87,
   "metadata": {},
   "outputs": [],
   "source": [
    "ts_1=[word_index.get(title) for title in test_sentence.split(\" \")]\n",
    "\n",
    "test_data = pad_sequences([ts_1], maxlen=MAX_SEQUENCE_LENGTH, padding=\"pre\",\n",
    "                          truncating=\"post\")"
   ]
  },
  {
   "cell_type": "code",
   "execution_count": 88,
   "metadata": {},
   "outputs": [],
   "source": [
    "y_test=model.predict([test_data])\n",
    "\n",
    "\n"
   ]
  },
  {
   "cell_type": "code",
   "execution_count": 106,
   "metadata": {},
   "outputs": [],
   "source": [
    "from sklearn.externals import joblib\n",
    "\n",
    "# joblib.dump(model, 'tag_prediction.joblib')\n",
    "\n",
    "model.save('stack_overflow_tag.h5')\n"
   ]
  },
  {
   "cell_type": "code",
   "execution_count": null,
   "metadata": {},
   "outputs": [],
   "source": [
    "from tensorflow import keras\n",
    "model_load = keras.models.load_model('stack_overflow_tag.h5')"
   ]
  },
  {
   "cell_type": "code",
   "execution_count": 89,
   "metadata": {},
   "outputs": [
    {
     "data": {
      "text/plain": [
       "47"
      ]
     },
     "execution_count": 89,
     "metadata": {},
     "output_type": "execute_result"
    }
   ],
   "source": [
    "s=np.argmax(y_test, axis=None, out=None)\n",
    "s"
   ]
  },
  {
   "cell_type": "code",
   "execution_count": 90,
   "metadata": {},
   "outputs": [],
   "source": [
    "# def binarise(x):\n",
    "#     if x>0.05:\n",
    "#         return 1\n",
    "#     return 0\n",
    "\n",
    "# new_arr=[[binarise(x) for x in tag]\n",
    "#              for tag in y_test]\n",
    "# new_arr2=np.asarray(new_arr)\n",
    "model_tags=le.inverse_transform([s])"
   ]
  },
  {
   "cell_type": "code",
   "execution_count": 91,
   "metadata": {},
   "outputs": [
    {
     "data": {
      "text/plain": [
       "array(['javascript'], dtype=object)"
      ]
     },
     "execution_count": 91,
     "metadata": {},
     "output_type": "execute_result"
    }
   ],
   "source": [
    "model_tags"
   ]
  },
  {
   "cell_type": "code",
   "execution_count": 92,
   "metadata": {},
   "outputs": [
    {
     "name": "stdout",
     "output_type": "stream",
     "text": [
      "jquery 0.0005831164725383961\n",
      "unpack 1.837659148939211e-05\n",
      "list 0.001831023157568042\n",
      "dictionaries 1.7695976989784998e-05\n",
      "cell 0.00024859444598149884\n",
      "columns 0.00026543965484677497\n",
      "dictionaries 1.7695976989784998e-05\n",
      "['dictionaries']\n"
     ]
    }
   ],
   "source": [
    "# model_tags=multilabel_binarizer.inverse_transform(new_arr2)\n",
    "# model_tags = [item for sublist in model_tags for item in sublist]    \n",
    "# tokenizer2=WordPunctTokenizer()\n",
    "# fd = FreqDist()\n",
    "\n",
    "tag_freq=1\n",
    "test_words=tokenizer2.tokenize(test_sentence)\n",
    "\n",
    "for word_token in test_words:\n",
    "    freq= fd.freq(word_token)\n",
    "    print(word_token, freq)\n",
    "#     print(tag_freq)\n",
    "    if freq< tag_freq:\n",
    "        tag_freq=freq\n",
    "        word=word_token\n",
    "\n",
    "print(word, tag_freq)\n",
    "\n",
    "if ~(len(model_tags)):\n",
    "    model_tags_1=[word]\n",
    "\n",
    "    \n",
    "print(model_tags_1)"
   ]
  },
  {
   "cell_type": "code",
   "execution_count": 78,
   "metadata": {},
   "outputs": [
    {
     "data": {
      "text/plain": [
       "{'procedures', 'python'}"
      ]
     },
     "execution_count": 78,
     "metadata": {},
     "output_type": "execute_result"
    }
   ],
   "source": [
    "set([model_tags[0],model_tags_1[0]])"
   ]
  },
  {
   "cell_type": "code",
   "execution_count": 101,
   "metadata": {},
   "outputs": [],
   "source": [
    "new_stop_words = open('stop_words.txt','r').read().split(\",\")\n",
    "\n",
    "new_stop_words = [x.strip(' ') for x in stop_words]\n"
   ]
  },
  {
   "cell_type": "code",
   "execution_count": 102,
   "metadata": {},
   "outputs": [],
   "source": [
    "for x in range(len(new_stop_words)):\n",
    "    new_stop_words[x]=new_stop_words[x].replace('\"','')"
   ]
  },
  {
   "cell_type": "code",
   "execution_count": null,
   "metadata": {},
   "outputs": [],
   "source": [
    "# new_stop_words"
   ]
  },
  {
   "cell_type": "markdown",
   "metadata": {},
   "source": [
    "----------------------------------------------------------------------\n",
    "# IGNORE"
   ]
  },
  {
   "cell_type": "markdown",
   "metadata": {},
   "source": [
    "# TESTING SENTENCES"
   ]
  },
  {
   "cell_type": "code",
   "execution_count": null,
   "metadata": {},
   "outputs": [],
   "source": [
    "test_sentence=\"help python\""
   ]
  },
  {
   "cell_type": "code",
   "execution_count": null,
   "metadata": {},
   "outputs": [],
   "source": [
    "ts_1=[[word_index.get(t, 0) for t in title]\n",
    "             for title in test_sentence.split()]"
   ]
  },
  {
   "cell_type": "code",
   "execution_count": null,
   "metadata": {},
   "outputs": [],
   "source": [
    "for title in test_sentence.split():\n",
    "    print(title)"
   ]
  },
  {
   "cell_type": "code",
   "execution_count": null,
   "metadata": {},
   "outputs": [],
   "source": [
    "new_l=[]\n",
    "for x in range(len(ts_1)):\n",
    "    new_l.append(ts_1[x][0])"
   ]
  },
  {
   "cell_type": "code",
   "execution_count": null,
   "metadata": {},
   "outputs": [],
   "source": [
    "print(len(new_l))\n",
    "print(len(set(new_l)))"
   ]
  },
  {
   "cell_type": "code",
   "execution_count": null,
   "metadata": {},
   "outputs": [],
   "source": [
    "print(len(new_l))\n",
    "print(len(set(new_l)))"
   ]
  },
  {
   "cell_type": "code",
   "execution_count": null,
   "metadata": {},
   "outputs": [],
   "source": [
    "print(len(new_l))\n",
    "print(len(set(new_l)))"
   ]
  },
  {
   "cell_type": "code",
   "execution_count": null,
   "metadata": {},
   "outputs": [],
   "source": [
    "ts_2=pad_sequences(ts_1, maxlen=MAX_SEQUENCE_LENGTH, \n",
    "                     padding=\"pre\", truncating=\"post\")"
   ]
  },
  {
   "cell_type": "code",
   "execution_count": 104,
   "metadata": {},
   "outputs": [
    {
     "data": {
      "text/plain": [
       "200"
      ]
     },
     "execution_count": 104,
     "metadata": {},
     "output_type": "execute_result"
    }
   ],
   "source": [
    "MAX_SEQUENCE_LENGTH"
   ]
  },
  {
   "cell_type": "code",
   "execution_count": null,
   "metadata": {},
   "outputs": [],
   "source": []
  },
  {
   "cell_type": "code",
   "execution_count": null,
   "metadata": {},
   "outputs": [],
   "source": [
    "test_result=model.predict(ts_2)"
   ]
  },
  {
   "cell_type": "code",
   "execution_count": null,
   "metadata": {},
   "outputs": [],
   "source": [
    "test_result.shape"
   ]
  },
  {
   "cell_type": "code",
   "execution_count": null,
   "metadata": {},
   "outputs": [],
   "source": [
    "def binarise(x):\n",
    "    if x>0.00000001:\n",
    "        return 1\n",
    "    return 0"
   ]
  },
  {
   "cell_type": "code",
   "execution_count": null,
   "metadata": {},
   "outputs": [],
   "source": [
    "# df=pd.DataFrame(test_result)\n",
    "# new_arr=[x for x in binarise(test_result)]\n",
    "new_arr=[[binarise(x) for x in tag]\n",
    "             for tag in test_result]\n",
    "new_arr2=np.asarray(new_arr)"
   ]
  },
  {
   "cell_type": "code",
   "execution_count": null,
   "metadata": {},
   "outputs": [],
   "source": [
    "new_df[train_size:train_size+5]"
   ]
  },
  {
   "cell_type": "code",
   "execution_count": 64,
   "metadata": {},
   "outputs": [],
   "source": [
    "tokens=[]\n",
    "tokenizer2=WordPunctTokenizer()\n",
    "for j in range(len(new_df['Body'])):\n",
    "        temp= tokenizer2.tokenize(new_df['Body'].iloc[j])\n",
    "        tokens.append(temp) \n",
    "\n",
    "tokens = [item for sublist in tokens for item in sublist]        "
   ]
  },
  {
   "cell_type": "code",
   "execution_count": 65,
   "metadata": {},
   "outputs": [],
   "source": [
    "fd = FreqDist()\n",
    "\n",
    "for word_token in tokens:\n",
    "    fd.update([word_token])"
   ]
  },
  {
   "cell_type": "code",
   "execution_count": null,
   "metadata": {},
   "outputs": [],
   "source": [
    "test_sentence= \"Appending information and graphs in Excel using python\"\n",
    "\n",
    "test_sentence = clean_text(test_sentence) \n",
    "test_sentence = clean_punct(test_sentence) \n",
    "test_sentence = lemitizeWords(test_sentence) \n",
    "test_sentence = stopWordsRemove(test_sentence) \n",
    "\n",
    "\n",
    "ts_1=[[word_index.get(t, 0) for t in title]\n",
    "             for title in test_sentence.split()]\n",
    "\n",
    "ts_2=pad_sequences(ts_1, maxlen=MAX_SEQUENCE_LENGTH, \n",
    "                     padding=\"pre\", truncating=\"post\")"
   ]
  },
  {
   "cell_type": "code",
   "execution_count": null,
   "metadata": {},
   "outputs": [],
   "source": [
    "\n",
    "test_result=model.predict(ts_3)\n"
   ]
  },
  {
   "cell_type": "code",
   "execution_count": null,
   "metadata": {},
   "outputs": [],
   "source": [
    "max_list=[]\n",
    "for x in range(len(test_result)):\n",
    "    max_list.append(max(test_result[x]))\n",
    "    \n",
    "max(max_list)    "
   ]
  },
  {
   "cell_type": "code",
   "execution_count": null,
   "metadata": {},
   "outputs": [],
   "source": [
    "# multilabel_binarizer.inverse_transform(test_result)\n",
    "# y = new_df['Tags'][:train_size]\n",
    "# multilabel_binarizer = MultiLabelBinarizer()\n",
    "# multilabel_binarizer.fit(new_df['Tags'])\n",
    "# y_bin = multilabel_binarizer.transform(y)\n",
    "\n",
    "\n",
    "\n",
    "def binarise(x):\n",
    "    if x>0.01:\n",
    "        return 1\n",
    "    return 0\n",
    "\n",
    "new_arr=[[binarise(x) for x in tag]\n",
    "             for tag in test_result]\n",
    "new_arr2=np.asarray(new_arr)\n",
    "multilabel_binarizer.inverse_transform(new_arr2)\n"
   ]
  },
  {
   "cell_type": "code",
   "execution_count": null,
   "metadata": {},
   "outputs": [],
   "source": [
    "new_arr=[[binarise(x) for x in tag]\n",
    "             for tag in test_result]\n",
    "new_arr2=np.asarray(new_arr)"
   ]
  },
  {
   "cell_type": "code",
   "execution_count": null,
   "metadata": {},
   "outputs": [],
   "source": [
    "model_tags=multilabel_binarizer.inverse_transform(new_arr2)\n",
    "model_tags = [item for sublist in model_tags for item in sublist]    \n",
    "tag_freq=1\n",
    "test_words=tokenizer2.tokenize(test_sentence)\n",
    "\n",
    "for word_token in test_words:\n",
    "    freq= fd.freq(word_token)\n",
    "    print(word_token, freq)\n",
    "    print(tag_freq)\n",
    "    if freq< tag_freq:\n",
    "        tag_freq=freq\n",
    "        word=word_token\n",
    "\n",
    "print(word, tag_freq)\n",
    "\n",
    "if ~(len(model_tags)):\n",
    "    model_tags=[word]\n",
    "\n",
    "    \n",
    "print(model_tags)"
   ]
  }
 ],
 "metadata": {
  "kernelspec": {
   "display_name": "Python 3",
   "language": "python",
   "name": "python3"
  },
  "language_info": {
   "codemirror_mode": {
    "name": "ipython",
    "version": 3
   },
   "file_extension": ".py",
   "mimetype": "text/x-python",
   "name": "python",
   "nbconvert_exporter": "python",
   "pygments_lexer": "ipython3",
   "version": "3.7.6"
  }
 },
 "nbformat": 4,
 "nbformat_minor": 2
}
